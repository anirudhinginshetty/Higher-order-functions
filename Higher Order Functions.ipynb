{
 "cells": [
  {
   "cell_type": "markdown",
   "id": "589914c8",
   "metadata": {},
   "source": [
    "# Higher Order Functions (examples) \n",
    "personal work!"
   ]
  },
  {
   "cell_type": "markdown",
   "id": "acccd717",
   "metadata": {},
   "source": [
    "We shall cover some important concepts which you can use in Python.\n",
    "\n",
    "1. List comprehensions (https://en.wikipedia.org/wiki/List_comprehension)\n",
    "2. Lambda-functions (https://en.wikipedia.org/wiki/Anonymous_function)\n",
    "3. map() (https://en.wikipedia.org/wiki/Map_(higher-order_function))\n",
    "4. functools.reduce() (https://en.wikipedia.org/wiki/Fold_(higher-order_function))\n",
    "5. filter() (https://en.wikipedia.org/wiki/Filter_(higher-order_function))\n",
    "6. zip() (https://en.wikipedia.org/wiki/Convolution_(computer_science))"
   ]
  },
  {
   "cell_type": "markdown",
   "id": "615d8c47",
   "metadata": {},
   "source": [
    "1. List comprehensions consist of an expression with for-loops and if-else expressions written inside square brackets []."
   ]
  },
  {
   "cell_type": "code",
   "execution_count": 1,
   "id": "b56800d3",
   "metadata": {},
   "outputs": [
    {
     "name": "stdout",
     "output_type": "stream",
     "text": [
      "[1.0, 6.0, 120.0, 5040.0]\n"
     ]
    }
   ],
   "source": [
    "import math\n",
    "x =[math.gamma(i) for i in range(1,10) if i % 2 == 0]\n",
    "print(x)"
   ]
  },
  {
   "cell_type": "code",
   "execution_count": 2,
   "id": "4896d012",
   "metadata": {},
   "outputs": [
    {
     "name": "stdout",
     "output_type": "stream",
     "text": [
      "[1, 4, 9, 16]\n"
     ]
    }
   ],
   "source": [
    "lst = [i**2 for i in range(1,5)]\n",
    "print(lst)"
   ]
  },
  {
   "cell_type": "markdown",
   "id": "c17521af",
   "metadata": {},
   "source": [
    "2. Lambda Functions are also called anonymous functions. In simple and short words their syntax is lambda\n",
    "\n",
    "argument : expression."
   ]
  },
  {
   "cell_type": "code",
   "execution_count": 3,
   "id": "ec4a0a78",
   "metadata": {},
   "outputs": [],
   "source": [
    "#for more https://realpython.com/python-lambda/ "
   ]
  },
  {
   "cell_type": "code",
   "execution_count": 4,
   "id": "423c1c7e",
   "metadata": {},
   "outputs": [
    {
     "name": "stdout",
     "output_type": "stream",
     "text": [
      "9\n"
     ]
    }
   ],
   "source": [
    "f = lambda x,y : x+y\n",
    "\n",
    "print(f(5,4))"
   ]
  },
  {
   "cell_type": "code",
   "execution_count": 5,
   "id": "3f101c75",
   "metadata": {},
   "outputs": [],
   "source": [
    "def multiply(n):\n",
    "    return lambda a: a*n\n",
    "\n",
    "double = multiply(2)\n",
    "triple = multiply(3)\n"
   ]
  },
  {
   "cell_type": "code",
   "execution_count": 6,
   "id": "2aa8880b",
   "metadata": {},
   "outputs": [
    {
     "name": "stdout",
     "output_type": "stream",
     "text": [
      "100\n",
      "150\n"
     ]
    }
   ],
   "source": [
    "print(double(50))\n",
    "print(triple(50))"
   ]
  },
  {
   "cell_type": "markdown",
   "id": "55b84efa",
   "metadata": {},
   "source": [
    "3. Map() : map returns a map-object containing the results of applying a function to each element in an interable (list, tuple, etc.).  \n",
    "\n",
    "The syntax is map( function , iterable ). "
   ]
  },
  {
   "cell_type": "markdown",
   "id": "2c5af8c5",
   "metadata": {},
   "source": [
    "imp: Note that the map-object needs to be converted from type map using the function list()\n",
    "to get a list"
   ]
  },
  {
   "cell_type": "code",
   "execution_count": 7,
   "id": "e1bb2bbc",
   "metadata": {},
   "outputs": [
    {
     "name": "stdout",
     "output_type": "stream",
     "text": [
      "<map object at 0x000001BAB9B11430>\n"
     ]
    }
   ],
   "source": [
    "def f(x):\n",
    "    return x*x\n",
    "val = [1,2,3,4]\n",
    "result = map(f , val)\n",
    "print(result)"
   ]
  },
  {
   "cell_type": "code",
   "execution_count": 8,
   "id": "6981cc13",
   "metadata": {},
   "outputs": [
    {
     "name": "stdout",
     "output_type": "stream",
     "text": [
      "[1, 4, 9, 16]\n"
     ]
    }
   ],
   "source": [
    "print(list(result)) #importance of list()"
   ]
  },
  {
   "cell_type": "code",
   "execution_count": 9,
   "id": "2e7186a1",
   "metadata": {},
   "outputs": [
    {
     "data": {
      "text/plain": [
       "[1, 8, 27, 64, 125, 216, 343, 512, 729]"
      ]
     },
     "execution_count": 9,
     "metadata": {},
     "output_type": "execute_result"
    }
   ],
   "source": [
    "list(map(lambda x: x**3, range(1,10)))"
   ]
  },
  {
   "cell_type": "code",
   "execution_count": 10,
   "id": "de19c03d",
   "metadata": {},
   "outputs": [
    {
     "data": {
      "text/plain": [
       "[15, 13, 11]"
      ]
     },
     "execution_count": 10,
     "metadata": {},
     "output_type": "execute_result"
    }
   ],
   "source": [
    "listA = [9,8,7]\n",
    "listB = [6,5,4]\n",
    "list(map(lambda x , y : x+y , listA, listB))"
   ]
  },
  {
   "cell_type": "code",
   "execution_count": 11,
   "id": "6f34e830",
   "metadata": {},
   "outputs": [
    {
     "data": {
      "text/plain": [
       "[['p', 'y', 'h', 't', 'o', 'n'],\n",
       " ['i', 's'],\n",
       " ['i', 'm', 'p', 'o', 'r', 't', 'a', 'n', 't']]"
      ]
     },
     "execution_count": 11,
     "metadata": {},
     "output_type": "execute_result"
    }
   ],
   "source": [
    "#An example with strings:\n",
    "with_strings = ['pyhton' , 'is' , 'important']\n",
    "list(map(list, with_strings))"
   ]
  },
  {
   "cell_type": "code",
   "execution_count": 12,
   "id": "cf24bae6",
   "metadata": {},
   "outputs": [
    {
     "data": {
      "text/plain": [
       "[[0, 1], [1, 2, 3], [4, 5, 6]]"
      ]
     },
     "execution_count": 12,
     "metadata": {},
     "output_type": "execute_result"
    }
   ],
   "source": [
    "#An example with tuple of tuple of list:\n",
    "\n",
    "tuple_of_tuples = ((0,1) , (1,2,3) , (4,5,6))\n",
    "list(map(list , tuple_of_tuples))\n"
   ]
  },
  {
   "cell_type": "markdown",
   "id": "f3b906d3",
   "metadata": {},
   "source": [
    "4 functools.reduce(): The reduce.function functools.reduce() is often used together with map(); the combination\n",
    "is often called MapReduce. majorly used in Data Science and Big Data.\n",
    "\n",
    "The purpose of functools.reduce() is to reduce an iterable (list, tuple, etc) down to a\n",
    "value."
   ]
  },
  {
   "cell_type": "code",
   "execution_count": 17,
   "id": "b6193fb5",
   "metadata": {},
   "outputs": [
    {
     "data": {
      "text/plain": [
       "10"
      ]
     },
     "execution_count": 17,
     "metadata": {},
     "output_type": "execute_result"
    }
   ],
   "source": [
    "import functools\n",
    "list = [1,-2,3,4]\n",
    "functools.reduce(lambda x,y : x+y , map(abs, list))   #Manhattan-norm ∥x∥ = sum(|x|)"
   ]
  },
  {
   "cell_type": "code",
   "execution_count": 18,
   "id": "a2be3273",
   "metadata": {},
   "outputs": [],
   "source": [
    "del(list)"
   ]
  },
  {
   "cell_type": "markdown",
   "id": "167b60c4",
   "metadata": {},
   "source": [
    "5 filter : The function filter() can be used when you can formulate a yes/no (true/false) question for each element in an iterable"
   ]
  },
  {
   "cell_type": "code",
   "execution_count": 19,
   "id": "09884449",
   "metadata": {},
   "outputs": [
    {
     "data": {
      "text/plain": [
       "[8, 4]"
      ]
     },
     "execution_count": 19,
     "metadata": {},
     "output_type": "execute_result"
    }
   ],
   "source": [
    "a=[8,1,-3,4]\n",
    "list(filter(lambda x: x>2, a))"
   ]
  },
  {
   "cell_type": "code",
   "execution_count": 20,
   "id": "193353fd",
   "metadata": {},
   "outputs": [],
   "source": [
    "def filter_vowels(letter):\n",
    "    vowels = ['a', 'o', 'u', 'å', 'e', 'i', 'y', 'ä', 'ö']\n",
    "    return True if letter in vowels else False"
   ]
  },
  {
   "cell_type": "code",
   "execution_count": 21,
   "id": "24cfab48",
   "metadata": {},
   "outputs": [
    {
     "data": {
      "text/plain": [
       "['i', 'e', 'e', 'u', 'i', 'o']"
      ]
     },
     "execution_count": 21,
     "metadata": {},
     "output_type": "execute_result"
    }
   ],
   "source": [
    "word = 'higherOrderFunctions'\n",
    "list(filter(filter_vowels , word))"
   ]
  },
  {
   "cell_type": "markdown",
   "id": "e5f7ea88",
   "metadata": {},
   "source": [
    "6 zip() : The function zip is used to create an iterable of tuples from one or more iterables"
   ]
  },
  {
   "cell_type": "code",
   "execution_count": 22,
   "id": "2ee16a26",
   "metadata": {},
   "outputs": [
    {
     "data": {
      "text/plain": [
       "[(0.1, 0.2, 0.4), (0.6, -0.2, 0.4), (0.5, 0.9, -0.1)]"
      ]
     },
     "execution_count": 22,
     "metadata": {},
     "output_type": "execute_result"
    }
   ],
   "source": [
    "x = [0.1, 0.6, 0.5]\n",
    "y = [0.2, -0.2, 0.9]\n",
    "z = [0.4, 0.4, -0.1]\n",
    "list(zip(x,y,z))"
   ]
  },
  {
   "cell_type": "code",
   "execution_count": 23,
   "id": "573e1848",
   "metadata": {},
   "outputs": [
    {
     "data": {
      "text/plain": [
       "[(0, 'dog'), (1, 'cat'), (2, 'cow')]"
      ]
     },
     "execution_count": 23,
     "metadata": {},
     "output_type": "execute_result"
    }
   ],
   "source": [
    "animals = ['dog' , 'cat' , 'cow']\n",
    "list(zip(range(3) , animals))"
   ]
  },
  {
   "cell_type": "markdown",
   "id": "31ba3724",
   "metadata": {},
   "source": [
    "done! "
   ]
  }
 ],
 "metadata": {
  "kernelspec": {
   "display_name": "Python 3 (ipykernel)",
   "language": "python",
   "name": "python3"
  },
  "language_info": {
   "codemirror_mode": {
    "name": "ipython",
    "version": 3
   },
   "file_extension": ".py",
   "mimetype": "text/x-python",
   "name": "python",
   "nbconvert_exporter": "python",
   "pygments_lexer": "ipython3",
   "version": "3.9.12"
  }
 },
 "nbformat": 4,
 "nbformat_minor": 5
}
